{
  "cells": [
    {
      "cell_type": "markdown",
      "metadata": {
        "id": "96483133-a46c-4b13-ac2a-16a5e4743050"
      },
      "source": [
        "\n",
        "\n",
        "<h1 align=center><font size = 5>Artificial Neural Networks - Forward Propagation</font></h1>\n",
        "\n",
        "<h1 align=center><font size = 5> Muhammad Zeeshan </font></h1>\n",
        "\n",
        "\n",
        "<h1 align=center><font size = 5>Machine learning Engineer</font></h1>"
      ]
    },
    {
      "cell_type": "markdown",
      "metadata": {
        "id": "339ac51a-dc87-445c-8bfb-6d3ef532a01a"
      },
      "source": [
        "![images (2).jfif](data:image/jpeg;base64,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)## Introduction![images (1).jfif](data:image/jpeg;base64,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)# ###![images (5).png](data:image/png;base64,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)\n"
      ]
    },
    {
      "cell_type": "markdown",
      "metadata": {
        "id": "66a81094-624b-4c49-9400-ca3c250f62d7"
      },
      "source": [
        "In this lab, we will build a neural network from scratch and code how it performs predictions using forward propagation. Please note that all deep learning libraries have the entire training and prediction processes implemented, and so in practice you wouldn't really need to build a neural network from scratch. However, hopefully completing this lab will help you understand neural networks and how they work even better.\n"
      ]
    },
    {
      "cell_type": "markdown",
      "metadata": {
        "id": "7f5ce95a-e2ca-429b-98b4-0290723f4bc3"
      },
      "source": [
        "<h2>Artificial Neural Networks - Forward Propagation</h2>\n",
        "\n",
        "<h3>Objective for this Notebook<h3>    \n",
        "<h5> 1. Initalize a Network</h5>\n",
        "<h5> 2. Compute Weighted Sum at Each Node. </h5>\n",
        "<h5> 3. Compute Node Activation </h5>\n",
        "<h5> 4. Access your <b>Flask</b> app via a webpage anywhere using a custom link. </h5>     \n",
        "\n"
      ]
    },
    {
      "cell_type": "markdown",
      "metadata": {
        "id": "942f85da-d368-491d-83f9-9a0b37e3e8da"
      },
      "source": [
        "## Table of Contents\n",
        "\n",
        "<div class=\"alert alert-block alert-info\" style=\"margin-top: 20px\">\n",
        "\n",
        "<font size = 3>    \n",
        "\n",
        "1. <a href=\"#item11\">Recap</a>\n",
        "2. <a href=\"#item12\">Initalize a Network</a>  \n",
        "3. <a href=\"#item13\">Compute Weighted Sum at Each Node</a>  \n",
        "4. <a href=\"#item14\">Compute Node Activation</a>  \n",
        "5. <a href=\"#item15\">Forward Propagation</a>\n",
        "\n",
        "</font>\n",
        "    \n",
        "</div>\n"
      ]
    },
    {
      "cell_type": "markdown",
      "metadata": {
        "id": "6166e646-4633-487b-b592-ee7db31a485b"
      },
      "source": [
        "\n",
        "\n",
        "> Indented block\n",
        "\n",
        "\n"
      ]
    },
    {
      "cell_type": "markdown",
      "metadata": {
        "id": "9a3fc2d5-8a10-454b-860e-4b51e10d4f37"
      },
      "source": [
        "<a id=\"item1\"></a>\n"
      ]
    },
    {
      "cell_type": "markdown",
      "metadata": {
        "id": "94987094-5f7f-4dd8-938e-b3313df78654"
      },
      "source": [
        "<a id='item11'></a>\n"
      ]
    },
    {
      "cell_type": "markdown",
      "metadata": {
        "id": "0ef259ff-d936-4ff9-856a-88cecfafe9e7"
      },
      "source": [
        "# Recap\n"
      ]
    },
    {
      "cell_type": "markdown",
      "metadata": {
        "id": "9fb94ff4-e097-4697-8f8b-8f026ab135a2"
      },
      "source": [
        "From the videos, let's recap how a neural network makes predictions through the forward propagation process. Here is a neural network that takes two inputs, has one hidden layer with two nodes, and an output layer with one node.\n"
      ]
    },
    {
      "cell_type": "markdown",
      "metadata": {
        "id": "d52d3614-5473-42cb-8b12-b317027c470b"
      },
      "source": [
        "\n",
        "\n",
        "> Indented block\n",
        "\n",
        "> Indented block\n",
        "\n",
        "\n",
        "\n",
        "\n"
      ]
    },
    {
      "cell_type": "markdown",
      "metadata": {
        "id": "f1bdbe36-5bfa-478f-887a-22a48fde3095"
      },
      "source": [
        "<img src=\"http://cocl.us/neural_network_example\" alt=\"Neural Network Example\" width=\"600px\">\n"
      ]
    },
    {
      "cell_type": "markdown",
      "metadata": {
        "id": "50e74315-b88a-4a81-b7e4-3b1e5b5bfc3d"
      },
      "source": [
        "  \n"
      ]
    },
    {
      "cell_type": "markdown",
      "metadata": {
        "id": "43b4b416-6846-462e-928b-e75c499adbc5"
      },
      "source": [
        "Let's start by randomly initializing the weights and the biases in the network. We have 6 weights and 3 biases, one for each node in the hidden layer as well as for each node in the output layer.\n"
      ]
    },
    {
      "cell_type": "code",
      "metadata": {
        "colab": {
          "base_uri": "https://localhost:8080/"
        },
        "id": "3aa10b80-04ef-44ef-a20f-f0b155e6497d",
        "outputId": "d46278e1-5b12-460d-bd74-63e8a7a43752"
      },
      "outputs": [
        {
          "output_type": "stream",
          "name": "stdout",
          "text": [
            "Requirement already satisfied: numpy==1.21.4 in /usr/local/lib/python3.10/dist-packages (1.21.4)\n"
          ]
        }
      ],
      "source": [
        "# All Libraries required for this lab are listed below. The libraries pre-installed on Skills Network Labs are commented.\n",
        "# If you run this notebook on a different environment, e.g. your desktop, you may need to uncomment and install certain libraries.\n",
        "\n",
        "!pip install numpy==1.21.4"
      ],
      "execution_count": 6
    },
    {
      "cell_type": "code",
      "metadata": {
        "id": "09d7e8c7-e88e-4d21-99bd-e10c21e04605"
      },
      "outputs": [],
      "source": [
        "import numpy as np # import Numpy library to generate\n",
        "\n",
        "weights = np.around(np.random.uniform(size=6), decimals=2) # initialize the weights\n",
        "biases = np.around(np.random.uniform(size=3), decimals=2) # initialize the biases"
      ],
      "execution_count": 7
    },
    {
      "cell_type": "markdown",
      "metadata": {
        "id": "93ef8bd9-5134-4943-9745-e081068eb5f8"
      },
      "source": [
        "Let's print the weights and biases for sanity check.\n"
      ]
    },
    {
      "cell_type": "code",
      "metadata": {
        "colab": {
          "base_uri": "https://localhost:8080/"
        },
        "id": "d3eb6f29-2d70-4aee-9f80-d277fca546a3",
        "outputId": "f319ad8a-7eb1-4889-8859-b3c6b5b9bfa7"
      },
      "outputs": [
        {
          "output_type": "stream",
          "name": "stdout",
          "text": [
            "[0.2  0.12 0.14 0.28 0.82 0.62]\n",
            "[0.81 0.09 0.07]\n"
          ]
        }
      ],
      "source": [
        "print(weights)\n",
        "print(biases)"
      ],
      "execution_count": 8
    },
    {
      "cell_type": "markdown",
      "metadata": {
        "id": "86feba84-dba3-4101-8eb7-3ea51758b045"
      },
      "source": [
        "Now that we have the weights and the biases defined for the network, let's compute the output for a given input, $x_1$ and $x_2$.\n"
      ]
    },
    {
      "cell_type": "code",
      "metadata": {
        "colab": {
          "base_uri": "https://localhost:8080/"
        },
        "id": "c3c532e1-51f0-403b-9a9c-8f8436a51207",
        "outputId": "f963eaf6-a85b-42d8-b59f-498e85d67f4d"
      },
      "outputs": [
        {
          "output_type": "stream",
          "name": "stdout",
          "text": [
            "x1 is 0.5 and x2 is 0.85\n"
          ]
        }
      ],
      "source": [
        "x_1 = 0.5 # input 1\n",
        "x_2 = 0.85 # input 2\n",
        "\n",
        "print('x1 is {} and x2 is {}'.format(x_1, x_2))"
      ],
      "execution_count": 9
    },
    {
      "cell_type": "markdown",
      "metadata": {
        "id": "6f84403d-a90b-4bbb-973e-5a35a265ec46"
      },
      "source": [
        "Let's start by computing the wighted sum of the inputs, $z_{1, 1}$, at the first node of the hidden layer.\n"
      ]
    },
    {
      "cell_type": "code",
      "metadata": {
        "colab": {
          "base_uri": "https://localhost:8080/"
        },
        "id": "3d14b5b0-b42b-4790-be60-10470085e840",
        "outputId": "5e470fa1-8d3f-4557-b759-51430367c258"
      },
      "outputs": [
        {
          "output_type": "stream",
          "name": "stdout",
          "text": [
            "The weighted sum of the inputs at the first node in the hidden layer is 1.012\n"
          ]
        }
      ],
      "source": [
        "z_11 = x_1 * weights[0] + x_2 * weights[1] + biases[0]\n",
        "\n",
        "print('The weighted sum of the inputs at the first node in the hidden layer is {}'.format(z_11))"
      ],
      "execution_count": 10
    },
    {
      "cell_type": "markdown",
      "metadata": {
        "id": "3cf51650-cc30-4cd2-b3f2-bfa9a8c270b6"
      },
      "source": [
        "Next, let's compute the weighted sum of the inputs, $z_{1, 2}$, at the second node of the hidden layer. Assign the value to **z_12**.\n"
      ]
    },
    {
      "cell_type": "code",
      "metadata": {
        "colab": {
          "base_uri": "https://localhost:8080/"
        },
        "id": "7efe5c5d-8845-4949-88a7-3abe01f27c60",
        "outputId": "55ff54ae-0900-4baa-f271-0dadcefffc9e"
      },
      "outputs": [
        {
          "output_type": "stream",
          "name": "stdout",
          "text": [
            "The weighted sum of the inputs at the second node in the hidden layer is 0.398\n"
          ]
        }
      ],
      "source": [
        "### type your answer here\n",
        "\n",
        "\n",
        "z_12 = x_1 * weights[2] + x_2 * weights[3] + biases[1]\n",
        "\n",
        "print('The weighted sum of the inputs at the second node in the hidden layer is {}'.format(z_12))\n",
        "\n"
      ],
      "execution_count": 11
    },
    {
      "cell_type": "markdown",
      "metadata": {
        "id": "c0160e75-22da-4b85-9e6f-edf00dc60e38"
      },
      "source": [
        "Double-click __here__ for the solution.\n",
        "<!-- The correct answer is:\n",
        "z_12 = x_1 * weights[2] + x_2 * weights[3] + biases[1]\n",
        "-->\n"
      ]
    },
    {
      "cell_type": "markdown",
      "metadata": {
        "id": "cb57ba2e-11ea-4588-997d-1d380dd732d9"
      },
      "source": [
        "Print the weighted sum.\n"
      ]
    },
    {
      "cell_type": "code",
      "metadata": {
        "colab": {
          "base_uri": "https://localhost:8080/"
        },
        "id": "496f819f-2027-4c0a-9712-dfc375559e94",
        "outputId": "28ddbaa7-3dc3-4a92-8d56-fbe1996f4f38"
      },
      "outputs": [
        {
          "output_type": "stream",
          "name": "stdout",
          "text": [
            "The weighted sum of the inputs at the second node in the hidden layer is 0.398\n"
          ]
        }
      ],
      "source": [
        "print('The weighted sum of the inputs at the second node in the hidden layer is {}'.format(np.around(z_12, decimals=4)))"
      ],
      "execution_count": 12
    },
    {
      "cell_type": "markdown",
      "source": [
        "![images (9).png](data:image/png;base64,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)   ![download.png](data:image/png;base64,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) ![images (8).png](data:image/png;base64,iVBORw0KGgoAAAANSUhEUgAAAR0AAACxCAMAAADOHZloAAAA6lBMVEX////U1NT8/Pze3t7FxcXKysrq6urx8fH4+Pj09PSrvsunp6exsbHu7u7i4uLx9vq7u7uMjIzBwcHPz8+enp5mncitra16qM3f39+5ubmbm5vW1taGhoalpaWSkpJwcHB/f3+AgIB3d3dmZmacvNldXV3T4u5clsXL3Ovo8PZkiKSvyeBPj8G+0+bf6fJYWFg+Pj6RttYqKiqlwtyWuNZwosu1zuNklr5Vjbp8j6GXoq2isbxCeKOHobkGVohXhKhGgK4+h71zi6JYdpAAYphKSkoAAAA2YoXI0dhNaHxFZ4amuclgdYd5ipo0lImCAAAQgElEQVR4nO1dC3viOLItS7Ysj23hFwa/CQmEXJL0sOn03pmeubOzu707ex///+9c2TxCQIAh2KL343STEMdxieNSWaoqlQBOQ+jiBG8cQgAROvF6x4NSRJfvSWtSayF0gBAbhYnBNI1EnBYfEmDRkB7+2zPBHX1yl+9vW5NaC/jHnDpa0S/8oZoGlpdrbjLUb9mP7ekOqA6o6RCKdASj9LZFwTWAv6n+Laj+ACzcDwtgZppkcNOe7oAXAc4/2QUEhL9Ye4IPQo2coacFwSelADPBphkO2ZCOvD+1y84IhuQC2QHFB4psf0AM/h0ZkBDQgSZGi01IElCHsWGBpvOX3aLkeiChwr8yqV3+suzNNhSpDcS6TOmHIYkdxmlJ+ld2xHB8sMOAsis7Ivh8/OlktrV6EDy/9Lr3HN2duH9osX0ZAZSFkMhhR/N1FsZoqTvP97NJ55JMdMRA01zx3Ao9PI8nT09fpi8cdyt87pxNOmbMwGxpd566l8RMiZId3wVto12dyazbfe3NXqZfnp4mJcZvOPtnmLPzfH/u634YFlZ1M9qwO+PX7vS5xfs4Z+f+fDp5Zqyz0+nOWm5nxc7krl2hR2CNncljm0+FChU73YtVnTV2nl7bl16y09kvl63N/ijefV4jWLEz7rYsuUTJzvRp7yneasCoqERrsjFo20m5ZKfz2KTgXSjZ2dexqGepiwaqAdejRnWHbTspl+x0n5sUvAucnc6GzpYdaeVnulET/tUxM6KaTuOtKbaOLNh5kvPc4OyM30smKv+CrMVPhbP0/IRB0nhrdrIjpV9V7NyN336kFOKqPdbCBKA3t9gZIxd+pZ/q1vFd7Lzst4znh+PxRmbQ1+F1ZXb0dJjSIZ/9paB5/AwHAf+3xOLdGWTbc830No0YSbeuPmenbdVhVqBDkUCiw5vZcZGqwJA3yQDFAs/zEAutDYQfdH0TwiDgaqjroLuHT6/YmX75mMyjkTgB7zMuOMZDb3XQczLg7CgDB1SNt78B34+bjQIoDMD5EMEt6HEQJ2/q+Ybl+RU7rc8CUZAlmPeuvjGZvv+NVVka801FopXpYVi34EPQQkgNuOUX9/nHHgHVNI2Al5nvka0eACU7488fE3oCKKLl4Asb60a5BCqNpe4vf2R2xhtY/kixoSfblvQo+Cbm3Wmogxk7gApAjO33TpbsvEqb6GC6X3bk8TEgJK5vGNnNGeT1S0tsYWB9A+x4eZS+s8b62sCKs7M5HmsRmO6XPUrKLkbyPjKjs0UEaVZ9i1ZjhKLkbM6QoWrG2nSFs3NgotMk+mT/FNSbuy65HbDPGC+tehN9G11mnB2dDzHAVrmR89e6L2dHomeuP57JE75CgPkQIvd4X7OU979R0NoztXX0Wx9LiMDZsZOQQBxtDsgV+DwW/kkrYDOJwleIuaUx+HMRF97GbxSZHQvYny/XL1gieZbZ89l/ShReA4lU3b5YdqohEAIsyXcxR1/iE2EfaMCHirkFipz2mWH1Sl6kSD8I1XcRuCb8dNaOhRVFSRJFgHdHkyhOtfL181fRyXuu0FIKna+W7o0MfjnrVQ3dMDAxqMHfvP+XkLWDhm/FROGvX5mxwPq5/Aqbf64bFPMr6G1lNka+hk32cF52SjAGjugWB+tDLTNSSGjBn4WTbhwKDnrANkcjjePu69mj5onn4XT7cCjwzdj/lYscCIXIh5xCqnzQgXE07s+bv2NEkc/UkAw2jntRBKG/dTr+JRcRgbbd3/wJAoP+B51fx+J5dv7spiTCTr59WNG2u9vDb65APLdKgssOII/6H2/dMfj8fH52bAIis8MEWjL5VZiovK1kHH0kiOQ2i0e5GbkvP7SZQH4s+BxLKju9Py4557T3LJed7kXnKz/KzXVHr5ecr/w0lcvOw+yS2blHctmZTC+YncqhLIkdwmmhs3H/ctnplUmUctgxzBhB/Bd0ubrTqRzKEtixPTVUYx28v0B0seOdXuXZkaE7CFgU27Tzy+WuQJqrjiy7oyWM/TS9XHa689Rtic+su/HFsjNZBGokstNFl8oO+n3xRh479PVi14WulkTIY2fycqns3E+W7+SxUw63LpGdzuOKHInslM/MC2Rnur7SSBo7X8p0yktj5/nz/Txlpm9XL2nsVBHqS2AHoU6n8/A8+XLX6y6TCmwrB8JfktYUw7TKxG2bHdXz1J/+YxN/5fjbX3/+6mmays/g5+RBoeZZoQaeKoC18+hW/vxpWKwGk6E74nDq+6N9J6fYy4Xhg11XON+U8cvf7XJNuhR2or4dClbBkcF6fMRnCfIZhJHoCla2fQzlYJk1pJfdeDfKDj67n3oJkDAw2vbvINumGg7ocOO4beuhIAanabnA8NBCtBgqh1SrsfRw8trbg9nnl+lXjWgYkigjTsvsUIxtDcdb7GDcL1V5E5omikaWUett5ODWYacWHIWxLJDi/fI0EgoC8qGzTQTKRFHZeeGiTdxAKOhwp8HWDWrrF/FEv1xc2bniiiuuWIfNh8pImC7TBhKTALmoQozv4YKNwWm79sYCEQk1AnGLBTKPAw4gd5ldY+lxEyggtG51r/VM0rrwTTBjvDWubgkjMEmU+KL024uA4cIojViduWUDSMHh09qw+foWp6Kq9xdKcoAxFSggSbemFuyqNIck6Py2XKcSV1xxxRVXXHHFFf/WYG8OErKInWU3c1e/apSlS4gPwdvpybD0GORDtn5QBgieTyH4cBUZjQ2ZtYyPyHMMVkxZAJoGOhtBmkAYQkqApKBkiQVWMBePRnxyCojBN3DlbjLxzflGy5jwLQUlgKihWpA+n0iN0C3CWkHyoZEauT0Kb1Hsa2HO2XFBCQMC2EnRcDDIdbfkrCzXBKowStsaRjC0VbfQCwpJBlFDfhY/BPSjGZBCG9l/soDEBYzsghZBpuR6pTthTMjQG6LUdQM6KMtyARuCbHa+5SP4FAyiIYLEBKcp3fmWOjdWrI/MbyQLTfikwicgAz+1cD5McWHdEtUjRXBbVbaDoTmEAfzDzSGW61P9BKE6JBQVjPB7lTblZ6EUlbWkdLssPUnt26rEFuLmZ16Lg9HKgasv3SilpxsQt4KiYHWL4JrroNzV1SDW1bT5ErQV3tdquFzP1xJyFnLY/FHAbYsU2cdAleIaDHGU8Ae8DNFHYXNHiXag9l0YoiM87mMJZedBGjs4s90jdGf22nYzbQYakcRO0keOUZud58f2K0biyBfs1dImarLz+VVCZIA5IUlRdgQ75y4SVoudBwmKw9EPEzU/RndeJ4fPOQp12LmTtFeJjSExjmDn5ew1zA6z8/Aot9ZnbXYm53+mHmTnRfb+SHXZaWK3kgPsdO6n+09oHnXZ+b2Bu7ifnWmrW/WJUZOdbhMVP/ex0+leQqnGeuzcNaLje9j50v5uXiLUYmfSTMHPnex0XmttrNP8QLYOOw9N1IpNkp3sPD3W2pLJXveANDOcrsNOExbZTskOdtBrzZrP3tI3RQjYYSMpdjXYaWRzLeSYVPiBJo91HwCeYeQe/5ajxIrZ4Hxte8NhdmaNDFd1IxTpDuodVpxliz0DKQhxzdG9xMHHbseh1/FMHmTnqRmLzByRVR5XimMsukxVf9Gown4G5f+RUbky7YU/2qN+bOcornadsI51Ur8PtqJImKR3iJ0md4LdYqc3vxNlcK2MRA7KsEWoFVxbBgbkzPCMKsi8+GCV3Tm5gqW5yJmklIQEXCTUvQPsoN8bfGxusDNeFlnwfNAyK8xiqx9HThZS080RBDbyFQ+iHAK9H5oEfSweaIIeu+UCviECLy5ge1NDOMjOfZPbHb5nZ9ZbGRQNUuZHeRn00yI1xxlzkW0y3fdVSAjnqWTH/ig71UZRkOiGpUIh2JgODrEza9TztM7O81p1jsTzjJxYjqMxlfrMJ6avcl4cDVhEYxWy+eDGexdt2pWVgFbfqh0TV7bYhCjVLLU/rHbrwoFwNc1edr40u9vEGjufxW51sqkfpd2hi4Pr7Bj225LpxcIdf5CXljqKAW4Jche7HnnLeGOVR84OZHrsY6fpvblX7NR3q5eGdEkKf6KrAR/tAPM8t5/H2HLiHDuexULmhUAC1USRo3AuuWkJy9izFRgkAJsQfolao8c97HR+3/mr82DJzoneUY9axOXjZLihceD4ZppYGLk5ydHAUgmQ4ScIsFmyUyCuKtywEB/0FLDvc9tVK81+DzuNT5Pn7JzsHfWo4nix5/mJRj3fTiJNA8R8iPinDwxgsZZ5marxUWfObIezQwMNeA/ULAtDPZu+m51e47GAip3TvaPJfNm8veMTMAV8qtnY12xQuc3Nka1hYMsV+CasVQERLcCvWriLnWnzmx1qpUP2A56j45LnWHUzrOVk3gQtWizcs+lg7bz1PJFd7DS+JXgVC50+tuhWLz81XY2tuZmmZXJiFOqfbNelTqyFeaTRKDYsLym3YUP6LnYa3xI8tF1QZXpHK3YMcHxPDUpeQjXAkN5oxIVbVERcxXJ1FzunWGSjrGGUiQobqebyjTbH11//+ds/f/uXpwnOzUQHqyt458xDDcuURYcPAHI1dFERBgl/5N8opjGwAnZb7pKcxSCu/HF62BMJ3XTLQ53x0+fe/f3r7MvXP+Kj8nfOsoPzOoJy4MTwynithpaoTFCu3pli3flA2HMA1ubWiSV+/te013287909PS8sDX+iCPPxaCoY07OABmfO7/YP3Rs7toXsnBr2ZJpGAz4wXauD1Hl+uuvd//2X2X+Pt/pq7ouWM/cLwZ4jNNN8camgZiFg52SLXObUBnCDyrv8MJ7OXqs+NK6UJd4+PdbEiaUCJaGZLywz1TQE7HzoKZuN/+dvve59t/cyeX67NIoFrjv9RpSTrFoCu0VCsGRkGW6z8/qhsOdsNt3uQ7tkf0RQK9hip5mwp1h2a5JOxSY7DYU9xbLbE3UiNth5aHPv2e+NHdTmvOe7Y6eRsOdu2W0KOwnv2Gkm7LlbdqvSTsE6Ow2FPcUI/e+Lnaad7O+Ab9B3xU6LFllxHCMxUctbXJ6AN3YaDXtuASfa96Q7LVtkvf89WeWGw55i2e2LPBILdp6bdrILZUuQeRzm7HQeZSxE+l7Yadcir2TLEHoUKnaaD3uKZUuRegxKdloIe4plyxF7BDg7jYc9d8qWJLc+NNR42HO3bFmC6wGVLZS3XuOy2aGhBUrv3Ks966N1dhDGuP/HD/Xw08//+8P//crwUThLLFu1qcUk6A7h0AixySZs1d44aFvqDfG3z+QQHp1f4cNlRcr6MRGL6Y2kKiEJLSsFbMEIN+JoKPRAFVYBEgWZkQ/JOYrA257KPJLDUJIHI7MzItjTJxcE9TVFVLhcL0T9J4XcPFOOiIU1VbiKpGEQVSWW7cJmAF9VFSqow2aSVDTD6os4y23TO9MOArZeLnCQ07NMEvmCoteJYEemcouxbRAmysi8gTw462T15BUgH5Nqg2gbhESUotsXLRk0RMt5EAZbbhHAK6644op/c6A2Vrzvky9V+gH45SNVVsiNegAFu9htbMrBLw51RVIDc4q8W5rJGfPUgGJCrvf1gRzpt5wf19AuNlqsZGgETB47Bc0vmB3es6KC+pKqjcYGcXM7u9zRN+6X9SgkCUelvbObm6b/P+TUAKsBNgO0AAAAAElFTkSuQmCC)"
      ],
      "metadata": {
        "id": "YXkrO5nPXuRl"
      }
    },
    {
      "cell_type": "markdown",
      "metadata": {
        "id": "9786df27-de4f-4a21-9af7-93c353c4e52e"
      },
      "source": [
        "Next, assuming a sigmoid activation function, let's compute the activation of the first node, $a_{1, 1}$, in the hidden layer.\n"
      ]
    },
    {
      "cell_type": "code",
      "metadata": {
        "colab": {
          "base_uri": "https://localhost:8080/"
        },
        "id": "4210fdcc-2cb7-4698-a2ce-955f0e68f09a",
        "outputId": "ad5de1ea-0bf9-445e-c54f-dcb4b804f82f"
      },
      "outputs": [
        {
          "output_type": "stream",
          "name": "stdout",
          "text": [
            "The activation of the first node in the hidden layer is 0.7334\n"
          ]
        }
      ],
      "source": [
        "a_11 = 1.0 / (1.0 + np.exp(-z_11))\n",
        "\n",
        "print('The activation of the first node in the hidden layer is {}'.format(np.around(a_11, decimals=4)))"
      ],
      "execution_count": 13
    },
    {
      "cell_type": "markdown",
      "metadata": {
        "id": "bc6d35d6-3c3c-4bc1-bf36-d4a7c2bb7365"
      },
      "source": [
        "Let's also compute the activation of the second node, $a_{1, 2}$, in the hidden layer. Assign the value to **a_12**.\n"
      ]
    },
    {
      "cell_type": "code",
      "metadata": {
        "colab": {
          "base_uri": "https://localhost:8080/"
        },
        "id": "497ba756-77d1-4aa1-a518-5bf6b0f14c10",
        "outputId": "d046d1cb-987c-4361-979e-7dbb094da434"
      },
      "outputs": [
        {
          "output_type": "stream",
          "name": "stdout",
          "text": [
            "The activation of the second node in the hidden layer is 0.5982\n"
          ]
        }
      ],
      "source": [
        "### type your answer here\n",
        "\n",
        "\n",
        "a_12 = 1.0 / (1.0 + np.exp(-z_12))\n",
        "\n",
        "print('The activation of the second node in the hidden layer is {}'.format(np.around(a_12, decimals=4)))\n",
        "\n"
      ],
      "execution_count": 14
    },
    {
      "cell_type": "markdown",
      "metadata": {
        "id": "3a4530ca-5c62-4f88-9c6d-4645ef4a659c"
      },
      "source": [
        "Double-click __here__ for the solution.\n",
        "<!-- The correct answer is:\n",
        "a_12 = 1.0 / (1.0 + np.exp(-z_12))\n",
        "-->\n"
      ]
    },
    {
      "cell_type": "markdown",
      "metadata": {
        "id": "a687d039-b697-4c46-89e6-1f87231bbbff"
      },
      "source": [
        "Print the activation of the second node.\n"
      ]
    },
    {
      "cell_type": "code",
      "metadata": {
        "colab": {
          "base_uri": "https://localhost:8080/"
        },
        "id": "a530e15b-b640-4bbc-bf8e-e60b61c02a79",
        "outputId": "c9fb043e-ade1-470c-ac8e-2cd9bf77ed13"
      },
      "outputs": [
        {
          "output_type": "stream",
          "name": "stdout",
          "text": [
            "The activation of the second node in the hidden layer is 0.5982\n"
          ]
        }
      ],
      "source": [
        "print('The activation of the second node in the hidden layer is {}'.format(np.around(a_12, decimals=4)))"
      ],
      "execution_count": 15
    },
    {
      "cell_type": "markdown",
      "metadata": {
        "id": "dfb1dd52-833c-484e-b9f0-07a98cdd10df"
      },
      "source": [
        "Now these activations will serve as the inputs to the output layer. So, let's compute the weighted sum of these inputs to the node in the output layer. Assign the value to **z_2**.\n"
      ]
    },
    {
      "cell_type": "code",
      "metadata": {
        "colab": {
          "base_uri": "https://localhost:8080/"
        },
        "id": "8bca416c-994c-4468-bb09-d9adb452133c",
        "outputId": "1c2335b6-11e4-4450-e583-b2d6c8caf69f"
      },
      "outputs": [
        {
          "output_type": "stream",
          "name": "stdout",
          "text": [
            "The weighted sum of the inputs at the node in the output layer is 1.0423\n"
          ]
        }
      ],
      "source": [
        "### type your answer here\n",
        "\n",
        "\n",
        "z_2 = a_11 * weights[4] + a_12 * weights[5] + biases[2]\n",
        "\n",
        "print('The weighted sum of the inputs at the node in the output layer is {}'.format(np.around(z_2, decimals=4)))\n",
        "\n",
        "\n"
      ],
      "execution_count": 16
    },
    {
      "cell_type": "markdown",
      "metadata": {
        "id": "ec2626b5-0b0e-4742-afaf-8df9604927ff"
      },
      "source": [
        "Double-click __here__ for the solution.\n",
        "<!-- The correct answer is:\n",
        "z_2 = a_11 * weights[4] + a_12 * weights[5] + biases[2]\n",
        "-->\n"
      ]
    },
    {
      "cell_type": "markdown",
      "metadata": {
        "id": "c5c9a4ad-c80e-4710-9377-4ce1358e39bf"
      },
      "source": [
        "Print the weighted sum of the inputs at the node in the output layer.\n"
      ]
    },
    {
      "cell_type": "code",
      "metadata": {
        "colab": {
          "base_uri": "https://localhost:8080/"
        },
        "id": "715fea5f-939c-4c65-a015-8f6133170ca0",
        "outputId": "2ba89c38-de5e-4b20-b0a4-1abdee16c2de"
      },
      "outputs": [
        {
          "output_type": "stream",
          "name": "stdout",
          "text": [
            "The weighted sum of the inputs at the node in the output layer is 1.0423\n"
          ]
        }
      ],
      "source": [
        "print('The weighted sum of the inputs at the node in the output layer is {}'.format(np.around(z_2, decimals=4)))"
      ],
      "execution_count": 17
    },
    {
      "cell_type": "markdown",
      "metadata": {
        "id": "a0db3928-aec7-443e-8a30-a1e30637bf41"
      },
      "source": [
        "Finally, let's compute the output of the network as the activation of the node in the output layer. Assign the value to **a_2**.\n"
      ]
    },
    {
      "cell_type": "code",
      "metadata": {
        "colab": {
          "base_uri": "https://localhost:8080/"
        },
        "id": "34af44ca-69ff-43ff-87ba-66cba8a19239",
        "outputId": "91d44f87-6255-4899-ba90-c34c288c0518"
      },
      "outputs": [
        {
          "output_type": "stream",
          "name": "stdout",
          "text": [
            "The output of the network for x1 = 0.5 and x2 = 0.85 is 0.7393\n"
          ]
        }
      ],
      "source": [
        "### type your answer here\n",
        "\n",
        "\n",
        "a_2 = 1.0 / (1.0 + np.exp(-z_2))\n",
        "\n",
        "print('The output of the network for x1 = {} and x2 = {} is {}'.format(x_1, x_2, np.around(a_2, decimals=4)))\n",
        "\n"
      ],
      "execution_count": 18
    },
    {
      "cell_type": "markdown",
      "metadata": {
        "id": "08e4c45c-17ae-4ef9-911e-7435fae4a9c6"
      },
      "source": [
        "Double-click __here__ for the solution.\n",
        "<!-- The correct answer is:\n",
        "a_2 = 1.0 / (1.0 + np.exp(-z_2))\n",
        "-->\n"
      ]
    },
    {
      "cell_type": "markdown",
      "metadata": {
        "id": "3032143b-2b81-4ccf-a557-f63dce2f6d28"
      },
      "source": [
        "Print the activation of the node in the output layer which is equivalent to the prediction made by the network.\n"
      ]
    },
    {
      "cell_type": "code",
      "metadata": {
        "colab": {
          "base_uri": "https://localhost:8080/"
        },
        "id": "6067cf62-4023-4c27-9d9e-49b6080ef414",
        "outputId": "e6d2d940-055f-488b-d7d8-52af36096341"
      },
      "outputs": [
        {
          "output_type": "stream",
          "name": "stdout",
          "text": [
            "The output of the network for x1 = 0.5 and x2 = 0.85 is 0.7393\n"
          ]
        }
      ],
      "source": [
        "print('The output of the network for x1 = 0.5 and x2 = 0.85 is {}'.format(np.around(a_2, decimals=4)))"
      ],
      "execution_count": 19
    },
    {
      "cell_type": "markdown",
      "metadata": {
        "id": "15ad0858-9a75-4649-aa11-410f84563db0"
      },
      "source": [
        "<hr>\n"
      ]
    },
    {
      "cell_type": "markdown",
      "metadata": {
        "id": "6b36642a-07a7-4238-aaa5-89d4179b87f2"
      },
      "source": [
        "Obviously, neural networks for real problems are composed of many hidden layers and many more nodes in each layer. So, we can't continue making predictions using this very inefficient approach of computing the weighted sum at each node and the activation of each node manually.\n"
      ]
    },
    {
      "cell_type": "markdown",
      "metadata": {
        "id": "fcbf9df2-ee5b-4bc4-ab08-0bf6b9e7308e"
      },
      "source": [
        "In order to code an automatic way of making predictions, let's generalize our network. A general network would take $n$ inputs, would have many hidden layers, each hidden layer having $m$ nodes, and would have an output layer. Although the network is showing one hidden layer, but we will code the network to have many hidden layers. Similarly, although the network shows an output layer with one node, we will code the network to have more than one node in the output layer.\n"
      ]
    },
    {
      "cell_type": "markdown",
      "metadata": {
        "id": "d70b3df4-9fb9-40cd-afb4-88b4107f675f"
      },
      "source": [
        "<img src=\"http://cocl.us/general_neural_network\" alt=\"Neural Network General\" width=\"600px\">\n"
      ]
    },
    {
      "cell_type": "markdown",
      "metadata": {
        "id": "769bead2-f57e-4506-88d1-7066373c692c"
      },
      "source": [
        "  \n"
      ]
    },
    {
      "cell_type": "markdown",
      "metadata": {
        "id": "d1ef9a50-e1af-446c-aa19-d9e52576c679"
      },
      "source": [
        "<a id=\"item2\"></a>\n"
      ]
    },
    {
      "cell_type": "markdown",
      "metadata": {
        "id": "07417ad8-17e3-47ec-a257-0a8bd29106bc"
      },
      "source": [
        "<a id='item12'></a>\n"
      ]
    },
    {
      "cell_type": "markdown",
      "metadata": {
        "id": "3291a380-a134-495f-a8c9-2bb3ba95f95a"
      },
      "source": [
        "## Initialize a Network\n"
      ]
    },
    {
      "cell_type": "markdown",
      "metadata": {
        "id": "acc9a1e9-115a-458b-b9cf-273df760e3e6"
      },
      "source": [
        "Let's start by formally defining the structure of the network.\n"
      ]
    },
    {
      "cell_type": "code",
      "metadata": {
        "id": "6358c551-41c2-4664-85dd-a2c852b76a5f"
      },
      "outputs": [],
      "source": [
        "n = 2 # number of inputs\n",
        "num_hidden_layers = 2 # number of hidden layers\n",
        "m = [2, 2] # number of nodes in each hidden layer\n",
        "num_nodes_output = 1 # number of nodes in the output layer"
      ],
      "execution_count": 20
    },
    {
      "cell_type": "markdown",
      "metadata": {
        "id": "0dda4115-7479-4871-99d9-3931844a2679"
      },
      "source": [
        "Now that we defined the structure of the network, let's go ahead and inititailize the weights and the biases in the network to random numbers. In order to be able to initialize the weights and the biases to random numbers, we will need to import the **Numpy** library.\n"
      ]
    },
    {
      "cell_type": "code",
      "metadata": {
        "colab": {
          "base_uri": "https://localhost:8080/"
        },
        "id": "00bcb234-c0bc-4c13-8a48-3c5c278289b8",
        "outputId": "dc68cbd6-aeb2-4f43-d84e-f9e96c6bef0d"
      },
      "outputs": [
        {
          "output_type": "stream",
          "name": "stdout",
          "text": [
            "{'layer_1': {'node_1': {'weights': array([0.51, 0.13]), 'bias': array([0.09])}, 'node_2': {'weights': array([0.06, 0.16]), 'bias': array([0.67])}}, 'layer_2': {'node_1': {'weights': array([0.95, 0.83]), 'bias': array([0.5])}, 'node_2': {'weights': array([0.68, 0.55]), 'bias': array([0.69])}}, 'output': {'node_1': {'weights': array([0.65, 0.31]), 'bias': array([0.11])}}}\n"
          ]
        }
      ],
      "source": [
        "import numpy as np # import the Numpy library\n",
        "\n",
        "num_nodes_previous = n # number of nodes in the previous layer\n",
        "\n",
        "network = {} # initialize network an an empty dictionary\n",
        "\n",
        "# loop through each layer and randomly initialize the weights and biases associated with each node\n",
        "# notice how we are adding 1 to the number of hidden layers in order to include the output layer\n",
        "for layer in range(num_hidden_layers + 1):\n",
        "\n",
        "    # determine name of layer\n",
        "    if layer == num_hidden_layers:\n",
        "        layer_name = 'output'\n",
        "        num_nodes = num_nodes_output\n",
        "    else:\n",
        "        layer_name = 'layer_{}'.format(layer + 1)\n",
        "        num_nodes = m[layer]\n",
        "\n",
        "    # initialize weights and biases associated with each node in the current layer\n",
        "    network[layer_name] = {}\n",
        "    for node in range(num_nodes):\n",
        "        node_name = 'node_{}'.format(node+1)\n",
        "        network[layer_name][node_name] = {\n",
        "            'weights': np.around(np.random.uniform(size=num_nodes_previous), decimals=2),\n",
        "            'bias': np.around(np.random.uniform(size=1), decimals=2),\n",
        "        }\n",
        "\n",
        "    num_nodes_previous = num_nodes\n",
        "\n",
        "print(network) # print network"
      ],
      "execution_count": 21
    },
    {
      "cell_type": "markdown",
      "metadata": {
        "id": "63fc69e9-a378-4e02-bce6-c230161f8621"
      },
      "source": [
        "Awesome! So now with the above code, we are able to initialize the weights and the biases pertaining to any network of any number of hidden layers and number of nodes in each layer. But let's put this code in a function so that we are able to repetitively execute all this code whenever we want to construct a neural network.\n"
      ]
    },
    {
      "cell_type": "code",
      "metadata": {
        "id": "1f0d66d3-eb91-4194-80b7-f5698097b8bd"
      },
      "outputs": [],
      "source": [
        "def initialize_network(num_inputs, num_hidden_layers, num_nodes_hidden, num_nodes_output):\n",
        "\n",
        "    num_nodes_previous = num_inputs # number of nodes in the previous layer\n",
        "\n",
        "    network = {}\n",
        "\n",
        "    # loop through each layer and randomly initialize the weights and biases associated with each layer\n",
        "    for layer in range(num_hidden_layers + 1):\n",
        "\n",
        "        if layer == num_hidden_layers:\n",
        "            layer_name = 'output' # name last layer in the network output\n",
        "            num_nodes = num_nodes_output\n",
        "        else:\n",
        "            layer_name = 'layer_{}'.format(layer + 1) # otherwise give the layer a number\n",
        "            num_nodes = num_nodes_hidden[layer]\n",
        "\n",
        "        # initialize weights and bias for each node\n",
        "        network[layer_name] = {}\n",
        "        for node in range(num_nodes):\n",
        "            node_name = 'node_{}'.format(node+1)\n",
        "            network[layer_name][node_name] = {\n",
        "                'weights': np.around(np.random.uniform(size=num_nodes_previous), decimals=2),\n",
        "                'bias': np.around(np.random.uniform(size=1), decimals=2),\n",
        "            }\n",
        "\n",
        "        num_nodes_previous = num_nodes\n",
        "\n",
        "    return network # return the network"
      ],
      "execution_count": 22
    },
    {
      "cell_type": "markdown",
      "metadata": {
        "id": "288fd5b2-2787-4989-b109-8cbf82b1cfce"
      },
      "source": [
        "#### Use the *initialize_network* function to create a network that:\n",
        "\n",
        "1. takes 5 inputs\n",
        "2. has three hidden layers\n",
        "3. has 3 nodes in the first layer, 2 nodes in the second layer, and 3 nodes in the third layer\n",
        "4. has 1 node in the output layer\n",
        "\n",
        "Call the network **small_network**.\n"
      ]
    },
    {
      "cell_type": "code",
      "metadata": {
        "colab": {
          "base_uri": "https://localhost:8080/"
        },
        "id": "89e5a28a-91d5-42c7-8cb6-313e110bdfdd",
        "outputId": "59d3bfcd-d38a-43af-e2a3-9bc4544ec6fd"
      },
      "outputs": [
        {
          "output_type": "stream",
          "name": "stdout",
          "text": [
            "{'layer_1': {'node_1': {'weights': array([0.53, 0.32, 0.03, 0.67, 0.55]), 'bias': array([0.2])}, 'node_2': {'weights': array([0.82, 0.38, 0.25, 0.59, 0.9 ]), 'bias': array([0.3])}, 'node_3': {'weights': array([0.49, 0.58, 0.8 , 0.49, 0.41]), 'bias': array([0.27])}}, 'layer_2': {'node_1': {'weights': array([0.65, 0.17, 0.21]), 'bias': array([0.08])}, 'node_2': {'weights': array([0.52, 0.7 , 0.07]), 'bias': array([0.26])}}, 'layer_3': {'node_1': {'weights': array([0.23, 0.16]), 'bias': array([0.43])}, 'node_2': {'weights': array([0.3 , 0.11]), 'bias': array([0.35])}, 'node_3': {'weights': array([0.89, 0.35]), 'bias': array([0.88])}}, 'output': {'node_1': {'weights': array([0.35, 0.36, 0.11]), 'bias': array([0.3])}}}\n"
          ]
        }
      ],
      "source": [
        "### type your answer here\n",
        "\n",
        "\n",
        "small_network = initialize_network(5, 3, [3, 2, 3], 1)\n",
        "\n",
        "print(small_network)\n"
      ],
      "execution_count": 23
    },
    {
      "cell_type": "markdown",
      "metadata": {
        "id": "585a90f3-7054-4167-8d65-23f4efe32e8d"
      },
      "source": [
        "Double-click __here__ for the solution.\n",
        "<!-- The correct answer is:\n",
        "small_network = initialize_network(5, 3, [3, 2, 3], 1)\n",
        "-->\n"
      ]
    },
    {
      "cell_type": "markdown",
      "metadata": {
        "id": "c6caf576-e7ed-4245-a508-e226d09c6dea"
      },
      "source": [
        "  \n"
      ]
    },
    {
      "cell_type": "markdown",
      "metadata": {
        "id": "731ec69c-3450-4077-9c6a-6237dd74c689"
      },
      "source": [
        "<a id=\"item3\"></a>\n"
      ]
    },
    {
      "cell_type": "markdown",
      "metadata": {
        "id": "e562b961-f995-40f3-a5de-2db5ea3bfb84"
      },
      "source": [
        "<a id='item13'></a>\n"
      ]
    },
    {
      "cell_type": "markdown",
      "metadata": {
        "id": "babe5045-d284-41d4-90ad-af6825f67add"
      },
      "source": [
        "## Compute Weighted Sum at Each Node\n"
      ]
    },
    {
      "cell_type": "markdown",
      "metadata": {
        "id": "80cdaf76-bda4-47ee-8605-3d9ec5d03968"
      },
      "source": [
        "The weighted sum at each node is computed as the dot product of the inputs and the weights plus the bias. So let's create a function called *compute_weighted_sum* that does just that.\n"
      ]
    },
    {
      "cell_type": "code",
      "metadata": {
        "id": "39b79be5-79eb-44a0-ac86-8a10f07d57fc"
      },
      "outputs": [],
      "source": [
        "def compute_weighted_sum(inputs, weights, bias):\n",
        "    return np.sum(inputs * weights) + bias"
      ],
      "execution_count": 24
    },
    {
      "cell_type": "markdown",
      "metadata": {
        "id": "be0a1a96-1f4a-4005-807e-6e113c976ae7"
      },
      "source": [
        "Let's generate 5 inputs that we can feed to **small_network**.\n"
      ]
    },
    {
      "cell_type": "code",
      "metadata": {
        "colab": {
          "base_uri": "https://localhost:8080/"
        },
        "id": "ea354be8-3a36-4c13-a653-649eea3b3192",
        "outputId": "011e5e81-fb12-40b8-c6ee-d067a4018f2a"
      },
      "outputs": [
        {
          "output_type": "stream",
          "name": "stdout",
          "text": [
            "The inputs to the network are [0.15 0.74 0.26 0.53 0.01]\n"
          ]
        }
      ],
      "source": [
        "from random import seed\n",
        "import numpy as np\n",
        "\n",
        "np.random.seed(12)\n",
        "inputs = np.around(np.random.uniform(size=5), decimals=2)\n",
        "\n",
        "print('The inputs to the network are {}'.format(inputs))"
      ],
      "execution_count": 25
    },
    {
      "cell_type": "markdown",
      "metadata": {
        "id": "6f8be3a6-7b1e-4480-b3f2-c7c430785d23"
      },
      "source": [
        "#### Use the *compute_weighted_sum* function to compute the weighted sum at the first node in the first hidden layer.\n"
      ]
    },
    {
      "cell_type": "code",
      "metadata": {
        "colab": {
          "base_uri": "https://localhost:8080/"
        },
        "id": "30e734e1-a555-4d89-840d-9bfdb68e7d62",
        "outputId": "f9045100-c3cb-4d05-975f-ec5a1f6a07e8"
      },
      "outputs": [
        {
          "output_type": "stream",
          "name": "stdout",
          "text": [
            "The weights of the first node in the hidden layer are [0.53 0.32 0.03 0.67 0.55]\n",
            "The bias of the first node in the hidden layer is [0.2]\n"
          ]
        }
      ],
      "source": [
        "### type your answer here\n",
        "\n",
        "\n",
        "node_weights = small_network['layer_1']['node_1']['weights']\n",
        "\n",
        "node_bias = small_network['layer_1']['node_1']['bias']\n",
        "\n",
        "print('The weights of the first node in the hidden layer are {}'.format(node_weights))\n",
        "\n",
        "print('The bias of the first node in the hidden layer is {}'.format(node_bias))\n",
        "\n",
        "\n",
        "\n"
      ],
      "execution_count": 26
    },
    {
      "cell_type": "markdown",
      "metadata": {
        "id": "0859a375-2ad5-47cf-929b-7a6b44728ed7"
      },
      "source": [
        "Double-click __here__ for the solution.\n",
        "<!-- The correct answer is:\n",
        "node_weights = small_network['layer_1']['node_1']['weights']\n",
        "node_bias = small_network['layer_1']['node_1']['bias']\n",
        "\n",
        "weighted_sum = compute_weighted_sum(inputs, node_weights, node_bias)\n",
        "print('The weighted sum at the first node in the hidden layer is {}'.format(np.around(weighted_sum[0], decimals=4)))\n",
        "-->\n"
      ]
    },
    {
      "cell_type": "markdown",
      "metadata": {
        "id": "4cfc274a-cf9f-4bcb-a282-ec0c67bbde2d"
      },
      "source": [
        "   \n"
      ]
    },
    {
      "cell_type": "markdown",
      "metadata": {
        "id": "5ddaedbe-6fe1-4445-a3a0-9376b529a921"
      },
      "source": [
        "<a id=\"item4\"></a>\n"
      ]
    },
    {
      "cell_type": "markdown",
      "metadata": {
        "id": "351b232f-1d29-4fe3-b901-8fd8d605f71c"
      },
      "source": [
        "<a id='item14'></a>\n"
      ]
    },
    {
      "cell_type": "markdown",
      "metadata": {
        "id": "be4804c5-f57d-4ed4-a8ba-6d3efd1e92a0"
      },
      "source": [
        "## Compute Node Activation\n"
      ]
    },
    {
      "cell_type": "markdown",
      "metadata": {
        "id": "c7e015d7-adb9-47c0-a15b-9d4d6bd7ce4f"
      },
      "source": [
        "Recall that the output of each node is simply a non-linear tranformation of the weighted sum. We use activation functions for this mapping. Let's use the sigmoid function as the activation function here. So let's define a function that takes a weighted sum as input and returns the non-linear transformation of the input using the sigmoid function.\n"
      ]
    },
    {
      "cell_type": "code",
      "metadata": {
        "id": "c6670009-63f3-40d3-8bc4-37a63d88d2c7"
      },
      "outputs": [],
      "source": [
        "def node_activation(weighted_sum):\n",
        "    return 1.0 / (1.0 + np.exp(-1 * weighted_sum))"
      ],
      "execution_count": 27
    },
    {
      "cell_type": "markdown",
      "metadata": {
        "id": "1476446f-04b6-4d83-a326-33d42b13a850"
      },
      "source": [
        "#### Use the *node_activation* function to compute the output of the first node in the first hidden layer.\n"
      ]
    },
    {
      "cell_type": "code",
      "metadata": {
        "colab": {
          "base_uri": "https://localhost:8080/"
        },
        "id": "d0b7b2b2-6562-497c-8da0-3fc5438ed21b",
        "outputId": "9e75da34-1608-4d37-cd79-34ecf8f4f505"
      },
      "outputs": [
        {
          "output_type": "stream",
          "name": "stdout",
          "text": [
            "The output of the first node in the hidden layer is 0.7078\n"
          ]
        }
      ],
      "source": [
        "### type your answer here\n",
        "\n",
        "\n",
        "node_output  = node_activation(compute_weighted_sum(inputs, node_weights, node_bias))\n",
        "\n",
        "print('The output of the first node in the hidden layer is {}'.format(np.around(node_output[0], decimals=4)))\n",
        "\n",
        "\n"
      ],
      "execution_count": 28
    },
    {
      "cell_type": "markdown",
      "metadata": {
        "id": "a513d200-0308-4498-9fd3-0fb8e73eb181"
      },
      "source": [
        "Double-click __here__ for the solution.\n",
        "<!-- The correct answer is:\n",
        "node_output  = node_activation(compute_weighted_sum(inputs, node_weights, node_bias))\n",
        "print('The output of the first node in the hidden layer is {}'.format(np.around(node_output[0], decimals=4)))\n",
        "-->\n"
      ]
    },
    {
      "cell_type": "markdown",
      "metadata": {
        "id": "2eabd521-bd02-4d10-87ca-4986abaf1658"
      },
      "source": [
        "   \n"
      ]
    },
    {
      "cell_type": "markdown",
      "metadata": {
        "id": "ee3e28ff-1097-4cea-8a8a-55d500bb4767"
      },
      "source": [
        "<a id=\"item5\"></a>\n"
      ]
    },
    {
      "cell_type": "markdown",
      "metadata": {
        "id": "4e37d41b-c88b-4717-b5ac-67d45361e3a0"
      },
      "source": [
        "<a id='item15'></a>\n"
      ]
    },
    {
      "cell_type": "markdown",
      "metadata": {
        "id": "2ea32d9b-7af9-41dd-8a60-d9d4d8cef4df"
      },
      "source": [
        "## Forward Propagation\n"
      ]
    },
    {
      "cell_type": "markdown",
      "metadata": {
        "id": "f7b423a5-ab31-451a-ba81-2b061ba85bc2"
      },
      "source": [
        "The final piece of building a neural network that can perform predictions is to put everything together. So let's create a function that applies the *compute_weighted_sum* and *node_activation* functions to each node in the network and propagates the data all the way to the output layer and outputs a prediction for each node in the output layer.\n"
      ]
    },
    {
      "cell_type": "markdown",
      "metadata": {
        "id": "71fcdf1a-c2dd-4cc9-808f-614c1d1d873e"
      },
      "source": [
        "The way we are going to accomplish this is through the following procedure:\n",
        "\n",
        "1. Start with the input layer as the input to the first hidden layer.\n",
        "2. Compute the weighted sum at the nodes of the current layer.\n",
        "3. Compute the output of the nodes of the current layer.\n",
        "4. Set the output of the current layer to be the input to the next layer.\n",
        "5. Move to the next layer in the network.\n",
        "5. Repeat steps 2 - 4 until we compute the output of the output layer.\n"
      ]
    },
    {
      "cell_type": "code",
      "metadata": {
        "id": "188d6a40-bc9a-498e-8c78-fd4746b7e6f3"
      },
      "outputs": [],
      "source": [
        "def forward_propagate(network, inputs):\n",
        "\n",
        "    layer_inputs = list(inputs) # start with the input layer as the input to the first hidden layer\n",
        "\n",
        "    for layer in network:\n",
        "\n",
        "        layer_data = network[layer]\n",
        "\n",
        "        layer_outputs = []\n",
        "        for layer_node in layer_data:\n",
        "\n",
        "            node_data = layer_data[layer_node]\n",
        "\n",
        "            # compute the weighted sum and the output of each node at the same time\n",
        "            node_output = node_activation(compute_weighted_sum(layer_inputs, node_data['weights'], node_data['bias']))\n",
        "            layer_outputs.append(np.around(node_output[0], decimals=4))\n",
        "\n",
        "        if layer != 'output':\n",
        "            print('The outputs of the nodes in hidden layer number {} is {}'.format(layer.split('_')[1], layer_outputs))\n",
        "\n",
        "        layer_inputs = layer_outputs # set the output of this layer to be the input to next layer\n",
        "\n",
        "    network_predictions = layer_outputs\n",
        "    return network_predictions"
      ],
      "execution_count": 29
    },
    {
      "cell_type": "markdown",
      "metadata": {
        "id": "a7b48ae7-383e-44fd-b0b9-48ada3f0a667"
      },
      "source": [
        "#### Use the *forward_propagate* function to compute the prediction of our small network\n"
      ]
    },
    {
      "cell_type": "code",
      "metadata": {
        "colab": {
          "base_uri": "https://localhost:8080/"
        },
        "id": "8849cfab-90b9-42d6-8eeb-f4885913a347",
        "outputId": "53a73c99-7b98-4c2a-b799-8088723b42bf"
      },
      "outputs": [
        {
          "output_type": "stream",
          "name": "stdout",
          "text": [
            "The outputs of the nodes in hidden layer number 1 is [0.7078, 0.7486, 0.7763]\n",
            "The outputs of the nodes in hidden layer number 2 is [0.6964, 0.7697]\n",
            "The outputs of the nodes in hidden layer number 3 is [0.6711, 0.6556, 0.8544]\n",
            "The predicted value by the network for the given input is 0.7037\n"
          ]
        }
      ],
      "source": [
        "### type your answser here\n",
        "\n",
        "\n",
        "predictions = forward_propagate(small_network, inputs)\n",
        "\n",
        "print('The predicted value by the network for the given input is {}'.format(np.around(predictions[0], decimals=4)))\n",
        "\n",
        "\n"
      ],
      "execution_count": 30
    },
    {
      "cell_type": "markdown",
      "metadata": {
        "id": "02677c34-2e7c-4c2e-8b86-d222f209217b"
      },
      "source": [
        "Double-click __here__ for the solution.\n",
        "<!-- The correct answer is:\n",
        "predictions = forward_propagate(small_network, inputs)\n",
        "print('The predicted value by the network for the given input is {}'.format(np.around(predictions[0], decimals=4)))\n",
        "-->\n"
      ]
    },
    {
      "cell_type": "markdown",
      "metadata": {
        "id": "86b57ec6-6c11-4827-8a04-6b39c29489dd"
      },
      "source": [
        "So we built the code to define a neural network. We can specify the number of inputs that a neural network can take, the number of hidden layers as well as the number of nodes in each hidden layer, and the number of nodes in the output layer.\n"
      ]
    },
    {
      "cell_type": "markdown",
      "metadata": {
        "id": "5a5ff2a0-6bb1-4996-98ab-f839e3097868"
      },
      "source": [
        "We first use the *initialize_network* to create our neural network and define its weights and biases.\n"
      ]
    },
    {
      "cell_type": "code",
      "metadata": {
        "id": "1d6e6fa2-b8fa-4da8-878c-18a937f2a72d"
      },
      "outputs": [],
      "source": [
        "my_network = initialize_network(5, 3, [2, 3, 2], 3)"
      ],
      "execution_count": 31
    },
    {
      "cell_type": "markdown",
      "metadata": {
        "id": "6f211316-d1a9-4143-b9e5-524924fcae55"
      },
      "source": [
        "Then, for a given input,\n"
      ]
    },
    {
      "cell_type": "code",
      "metadata": {
        "id": "d97a42a7-c3f2-42e0-aafd-866a32efa0a4"
      },
      "outputs": [],
      "source": [
        "inputs = np.around(np.random.uniform(size=5), decimals=2)"
      ],
      "execution_count": 32
    },
    {
      "cell_type": "markdown",
      "metadata": {
        "id": "796c4c0a-421b-429c-b7d1-95a89acb8951"
      },
      "source": [
        "we compute the network predictions.\n"
      ]
    },
    {
      "cell_type": "code",
      "metadata": {
        "colab": {
          "base_uri": "https://localhost:8080/"
        },
        "id": "62ab9d47-4256-42b3-a2d3-9abeb0fb7cfc",
        "outputId": "fd466d55-57e0-4c1e-a96c-23f161b0d6db"
      },
      "outputs": [
        {
          "output_type": "stream",
          "name": "stdout",
          "text": [
            "The outputs of the nodes in hidden layer number 1 is [0.8857, 0.8889]\n",
            "The outputs of the nodes in hidden layer number 2 is [0.7822, 0.6965, 0.7411]\n",
            "The outputs of the nodes in hidden layer number 3 is [0.868, 0.881]\n",
            "The predicted values by the network for the given input are [0.8952, 0.8222, 0.8035]\n"
          ]
        }
      ],
      "source": [
        "predictions = forward_propagate(my_network, inputs)\n",
        "print('The predicted values by the network for the given input are {}'.format(predictions))"
      ],
      "execution_count": 33
    },
    {
      "cell_type": "markdown",
      "metadata": {
        "id": "9b1751fd-870a-4d69-8a91-9693cd29094b"
      },
      "source": [
        "Feel free to play around with the code by creating different networks of different structures and enjoy making predictions using the *forward_propagate* function.\n"
      ]
    },
    {
      "cell_type": "code",
      "metadata": {
        "colab": {
          "base_uri": "https://localhost:8080/"
        },
        "id": "29c01403-c676-4274-9ecb-cad0dedea7cb",
        "outputId": "1291ed55-dae7-4b87-8387-a1d40c78c9b1"
      },
      "outputs": [
        {
          "output_type": "stream",
          "name": "stdout",
          "text": [
            "The outputs of the nodes in hidden layer number 1 is [0.766, 0.7067]\n",
            "The outputs of the nodes in hidden layer number 2 is [0.7525, 0.7607, 0.8328]\n",
            "The outputs of the nodes in hidden layer number 3 is [0.8534, 0.8432]\n",
            "The predicted values by the network for the given input are [0.7698, 0.9013, 0.8663]\n"
          ]
        }
      ],
      "source": [
        "### create a network\n",
        "\n",
        "my_network = initialize_network(5, 3, [2, 3, 2], 3)\n",
        "\n",
        "inputs = np.around(np.random.uniform(size=5), decimals=2)\n",
        "\n",
        "predictions = forward_propagate(my_network, inputs)\n",
        "\n",
        "print('The predicted values by the network for the given input are {}'.format(predictions))\n",
        "\n",
        "\n",
        "\n"
      ],
      "execution_count": 34
    },
    {
      "cell_type": "code",
      "metadata": {
        "colab": {
          "base_uri": "https://localhost:8080/"
        },
        "id": "c1b9a289-5870-4e1f-9810-356d3fa960b0",
        "outputId": "4300ead2-f095-4828-cff7-7e75c3e6f010"
      },
      "outputs": [
        {
          "output_type": "stream",
          "name": "stdout",
          "text": [
            "The outputs of the nodes in hidden layer number 1 is [0.8593, 0.8954]\n",
            "The outputs of the nodes in hidden layer number 2 is [0.7033, 0.8445, 0.7152]\n",
            "The outputs of the nodes in hidden layer number 3 is [0.8513, 0.7917, 0.7835, 0.8272, 0.7821]\n",
            "The outputs of the nodes in hidden layer number 4 is [0.79, 0.936]\n",
            "The outputs of the nodes in hidden layer number 5 is [0.7246, 0.825, 0.7813]\n",
            "The outputs of the nodes in hidden layer number 6 is [0.8437, 0.8669]\n",
            "The predicted values by the network for the given input are [0.7506, 0.8986, 0.6766]\n"
          ]
        }
      ],
      "source": [
        "### create another network\n",
        "\n",
        "my_network_2 = initialize_network(5, 6, [2, 3, 5, 2, 3, 2], 3)\n",
        "\n",
        "inputs = np.around(np.random.uniform(size=5), decimals=2)\n",
        "\n",
        "predictions = forward_propagate(my_network_2, inputs)\n",
        "\n",
        "print('The predicted values by the network for the given input are {}'.format(predictions))\n",
        "\n",
        "\n",
        "\n"
      ],
      "execution_count": 35
    },
    {
      "cell_type": "markdown",
      "metadata": {
        "id": "7554770f-837d-4d00-a7cd-30bf40a09227"
      },
      "source": [
        "### Thank you for completing this lab!\n",
        "\n",
        "This notebook was created by Muhammmad Zeeshan. I hope you found this lab interesting and educational. Feel free to contact me if you have any questions!\n"
      ]
    },
    {
      "cell_type": "markdown",
      "metadata": {
        "id": "cd320b27-8262-4c31-9beb-6083622e9a84"
      },
      "source": [
        "\n",
        "## Change Log\n",
        "\n",
        "|  Date (YYYY-MM-DD) |  Version | Changed By  |  Change Description |\n",
        "|---|---|---|---|\n",
        "| 2023-11-10  | 2.0  | Muhammad Zeeshan  |  XBOOM AI to Markdown and added to course repo in GitLab |\n",
        "\n",
        "\n",
        "\n",
        "<hr>\n",
        "\n",
        "## <h3 align=\"center\"> © XBOOM AI Corporation 2020. All rights reserved. <h3/>\n"
      ]
    },
    {
      "cell_type": "markdown",
      "metadata": {
        "id": "e442daad-a6ee-46f6-a292-c6e0123dd1f8"
      },
      "source": [
        "This notebook is part of a course on ** XBOOM AI** called *Introduction to Deep Learning & Neural Networks with Keras*. If you accessed this notebook outside the course, you can take this course online by clicking .\n"
      ]
    }
  ],
  "metadata": {
    "kernelspec": {
      "display_name": "Python",
      "language": "python",
      "name": "conda-env-python-py"
    },
    "language_info": {
      "name": ""
    },
    "colab": {
      "provenance": []
    }
  },
  "nbformat": 4,
  "nbformat_minor": 0
}